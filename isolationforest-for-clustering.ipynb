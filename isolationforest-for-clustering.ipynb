{
 "cells": [
  {
   "cell_type": "markdown",
   "id": "ae43cf43",
   "metadata": {
    "papermill": {
     "duration": 0.006027,
     "end_time": "2022-07-31T22:03:21.803980",
     "exception": false,
     "start_time": "2022-07-31T22:03:21.797953",
     "status": "completed"
    },
    "tags": []
   },
   "source": [
    "# Tabular Playground Series - July 2022\n",
    "\n",
    "By Michael Mortenson\n",
    "\n",
    "The dataset for this challenge is simulated manufacturing control data. The goal is to use unsupervised (clustering) to identify different control states. We are not told the number of control states, the units, time dependencies, or any other information about the data.\n",
    "\n",
    "## Domain Insights\n",
    "\n",
    "Manufacturing products requires raw materials to be processed through a series of steps (and often many machines). Each step will not be perfectly exact, so the engineering design will have tolerances for the manufacture of each piece of a product. The job of manufacturing control to ensure that production stays efficient by detecting problems as machine pieces begin to wear, devices lose their calibration, or other problems arise.\n",
    "\n",
    "Since we are not told what each column in the data represents, we will need to analyze to decide how we should treat it. "
   ]
  },
  {
   "cell_type": "code",
   "execution_count": 1,
   "id": "22f660fc",
   "metadata": {
    "execution": {
     "iopub.execute_input": "2022-07-31T22:03:21.817023Z",
     "iopub.status.busy": "2022-07-31T22:03:21.815771Z",
     "iopub.status.idle": "2022-07-31T22:03:23.040560Z",
     "shell.execute_reply": "2022-07-31T22:03:23.039333Z"
    },
    "papermill": {
     "duration": 1.234454,
     "end_time": "2022-07-31T22:03:23.043472",
     "exception": false,
     "start_time": "2022-07-31T22:03:21.809018",
     "status": "completed"
    },
    "tags": []
   },
   "outputs": [],
   "source": [
    "# Useful Packages\n",
    "import numpy as np\n",
    "import pandas as pd\n",
    "import seaborn as sns\n",
    "from matplotlib import pyplot as plt"
   ]
  },
  {
   "cell_type": "code",
   "execution_count": 2,
   "id": "6f50ca5f",
   "metadata": {
    "execution": {
     "iopub.execute_input": "2022-07-31T22:03:23.056104Z",
     "iopub.status.busy": "2022-07-31T22:03:23.055177Z",
     "iopub.status.idle": "2022-07-31T22:03:24.362124Z",
     "shell.execute_reply": "2022-07-31T22:03:24.360818Z"
    },
    "papermill": {
     "duration": 1.316238,
     "end_time": "2022-07-31T22:03:24.364926",
     "exception": false,
     "start_time": "2022-07-31T22:03:23.048688",
     "status": "completed"
    },
    "tags": []
   },
   "outputs": [],
   "source": [
    "# Read in data\n",
    "X = pd.read_csv('../input/tabular-playground-series-jul-2022/data.csv')\n",
    "# X_id = X['id'].copy()\n",
    "# X = X.drop(columns=['id']).copy()"
   ]
  },
  {
   "cell_type": "markdown",
   "id": "56b151aa",
   "metadata": {
    "papermill": {
     "duration": 0.004645,
     "end_time": "2022-07-31T22:03:24.375494",
     "exception": false,
     "start_time": "2022-07-31T22:03:24.370849",
     "status": "completed"
    },
    "tags": []
   },
   "source": [
    "I'm interested in anomaly detection because this is a manufacturing control problm"
   ]
  },
  {
   "cell_type": "code",
   "execution_count": 3,
   "id": "04888c70",
   "metadata": {
    "execution": {
     "iopub.execute_input": "2022-07-31T22:03:24.387224Z",
     "iopub.status.busy": "2022-07-31T22:03:24.386790Z",
     "iopub.status.idle": "2022-07-31T22:03:24.826434Z",
     "shell.execute_reply": "2022-07-31T22:03:24.825161Z"
    },
    "papermill": {
     "duration": 0.448857,
     "end_time": "2022-07-31T22:03:24.829334",
     "exception": false,
     "start_time": "2022-07-31T22:03:24.380477",
     "status": "completed"
    },
    "tags": []
   },
   "outputs": [],
   "source": [
    "from sklearn.ensemble import IsolationForest"
   ]
  },
  {
   "cell_type": "code",
   "execution_count": 4,
   "id": "7f12c47e",
   "metadata": {
    "execution": {
     "iopub.execute_input": "2022-07-31T22:03:24.841481Z",
     "iopub.status.busy": "2022-07-31T22:03:24.841025Z",
     "iopub.status.idle": "2022-07-31T22:03:24.848584Z",
     "shell.execute_reply": "2022-07-31T22:03:24.847208Z"
    },
    "papermill": {
     "duration": 0.016334,
     "end_time": "2022-07-31T22:03:24.850901",
     "exception": false,
     "start_time": "2022-07-31T22:03:24.834567",
     "status": "completed"
    },
    "tags": []
   },
   "outputs": [],
   "source": [
    "def get_anomalies(df, contamination='auto', verbose=True):\n",
    "    \n",
    "    # Remove the 'id' column\n",
    "    try:\n",
    "        df = df.drop(columns=['id']).copy()\n",
    "    except:\n",
    "        print('No id column in df')\n",
    "        \n",
    "    # create an isolation forest model\n",
    "    clf = IsolationForest(random_state=0, contamination=contamination).fit(df)\n",
    "    \n",
    "    # Get anomalies\n",
    "    anomalies_array = clf.predict(df)\n",
    "\n",
    "    # Report some details\n",
    "    if verbose == True:\n",
    "        print(f\"{len(df) - anomalies_array.sum()} of {len(df)} samples ({round((len(df) - anomalies_array.sum())/len(X)*100,4)}%) deemed anomalous\")\n",
    "\n",
    "    return anomalies_array"
   ]
  },
  {
   "cell_type": "code",
   "execution_count": 5,
   "id": "75c1e8a4",
   "metadata": {
    "execution": {
     "iopub.execute_input": "2022-07-31T22:03:24.862764Z",
     "iopub.status.busy": "2022-07-31T22:03:24.862389Z",
     "iopub.status.idle": "2022-07-31T22:03:29.931974Z",
     "shell.execute_reply": "2022-07-31T22:03:29.930632Z"
    },
    "papermill": {
     "duration": 5.07918,
     "end_time": "2022-07-31T22:03:29.934954",
     "exception": false,
     "start_time": "2022-07-31T22:03:24.855774",
     "status": "completed"
    },
    "tags": []
   },
   "outputs": [
    {
     "name": "stdout",
     "output_type": "stream",
     "text": [
      "1992 of 98000 samples (2.0327%) deemed anomalous\n"
     ]
    }
   ],
   "source": [
    "# Determine whether each sample is a general outlier\n",
    "anoms = get_anomalies(X)"
   ]
  },
  {
   "cell_type": "code",
   "execution_count": 6,
   "id": "248d3d99",
   "metadata": {
    "execution": {
     "iopub.execute_input": "2022-07-31T22:03:29.948996Z",
     "iopub.status.busy": "2022-07-31T22:03:29.947915Z",
     "iopub.status.idle": "2022-07-31T22:03:29.978546Z",
     "shell.execute_reply": "2022-07-31T22:03:29.977508Z"
    },
    "papermill": {
     "duration": 0.039981,
     "end_time": "2022-07-31T22:03:29.981502",
     "exception": false,
     "start_time": "2022-07-31T22:03:29.941521",
     "status": "completed"
    },
    "tags": []
   },
   "outputs": [],
   "source": [
    "# Get id for each general anomaly\n",
    "anom_id1 = X.id[anoms < 1]\n",
    "\n",
    "# Pull the poits categorized as anomalies\n",
    "X1 = X.copy()\n",
    "X1 = X1.drop(labels=anom_id1.index)\n"
   ]
  },
  {
   "cell_type": "code",
   "execution_count": 7,
   "id": "093a0810",
   "metadata": {
    "execution": {
     "iopub.execute_input": "2022-07-31T22:03:29.993505Z",
     "iopub.status.busy": "2022-07-31T22:03:29.992820Z",
     "iopub.status.idle": "2022-07-31T22:03:29.998427Z",
     "shell.execute_reply": "2022-07-31T22:03:29.997312Z"
    },
    "papermill": {
     "duration": 0.014628,
     "end_time": "2022-07-31T22:03:30.000956",
     "exception": false,
     "start_time": "2022-07-31T22:03:29.986328",
     "status": "completed"
    },
    "tags": []
   },
   "outputs": [],
   "source": [
    "# # Now, there are 4 general groups of labels in the dataset (based on the box & whisker plots).\n",
    "# g1 = [f\"f_{x:02d}\" for x in range(7)]\n",
    "# g1.append('id')\n",
    "# g2 = [f\"f_{x:02d}\" for x in range(7, 14)]\n",
    "# g2.append('id')\n",
    "# g3 = [f\"f_{x:02d}\" for x in range(14, 22)]\n",
    "# g3.append('id')\n",
    "# g4 = [f\"f_{x:02d}\" for x in range(22, 29)]\n",
    "# g4.append('id')\n",
    "\n",
    "# # Let's work our way through each one and pull out the anomalies"
   ]
  },
  {
   "cell_type": "code",
   "execution_count": 8,
   "id": "9e74ca1e",
   "metadata": {
    "execution": {
     "iopub.execute_input": "2022-07-31T22:03:30.013395Z",
     "iopub.status.busy": "2022-07-31T22:03:30.012550Z",
     "iopub.status.idle": "2022-07-31T22:03:30.017435Z",
     "shell.execute_reply": "2022-07-31T22:03:30.016601Z"
    },
    "papermill": {
     "duration": 0.013855,
     "end_time": "2022-07-31T22:03:30.019920",
     "exception": false,
     "start_time": "2022-07-31T22:03:30.006065",
     "status": "completed"
    },
    "tags": []
   },
   "outputs": [],
   "source": [
    "# # The first group\n",
    "# X_g1 = X1[g1].copy()\n",
    "\n",
    "# # Determine whether each sample in the group is a general outlier\n",
    "# anoms = get_anomalies(X_g1)\n",
    "\n",
    "# # Get id for each g1 anomaly\n",
    "# anom_id2 = X_g1.id[anoms < 1]\n",
    "\n",
    "# # Pull the poits categorized as anomalies\n",
    "# X1 = X1.drop(labels=anom_id2.index)"
   ]
  },
  {
   "cell_type": "code",
   "execution_count": 9,
   "id": "94cf7b22",
   "metadata": {
    "execution": {
     "iopub.execute_input": "2022-07-31T22:03:30.032756Z",
     "iopub.status.busy": "2022-07-31T22:03:30.031923Z",
     "iopub.status.idle": "2022-07-31T22:03:30.037257Z",
     "shell.execute_reply": "2022-07-31T22:03:30.036386Z"
    },
    "papermill": {
     "duration": 0.014802,
     "end_time": "2022-07-31T22:03:30.039786",
     "exception": false,
     "start_time": "2022-07-31T22:03:30.024984",
     "status": "completed"
    },
    "tags": []
   },
   "outputs": [],
   "source": [
    "# # The second group\n",
    "# X_g2 = X1[g2].copy()\n",
    "\n",
    "# # Determine whether each sample in the group is a general outlier\n",
    "# anoms = get_anomalies(X_g2)\n",
    "\n",
    "# # Get id for each g1 anomaly\n",
    "# anom_id3 = X_g2.id[anoms < 1]\n",
    "\n",
    "# # Pull the poits categorized as anomalies\n",
    "# X1 = X1.drop(labels=anom_id3.index)"
   ]
  },
  {
   "cell_type": "code",
   "execution_count": 10,
   "id": "7d94811b",
   "metadata": {
    "execution": {
     "iopub.execute_input": "2022-07-31T22:03:30.052205Z",
     "iopub.status.busy": "2022-07-31T22:03:30.051520Z",
     "iopub.status.idle": "2022-07-31T22:03:30.056323Z",
     "shell.execute_reply": "2022-07-31T22:03:30.055508Z"
    },
    "papermill": {
     "duration": 0.013795,
     "end_time": "2022-07-31T22:03:30.058578",
     "exception": false,
     "start_time": "2022-07-31T22:03:30.044783",
     "status": "completed"
    },
    "tags": []
   },
   "outputs": [],
   "source": [
    "# # The third group\n",
    "# X_g3 = X1[g3].copy()\n",
    "\n",
    "# # Determine whether each sample in the group is a general outlier\n",
    "# anoms = get_anomalies(X_g3)\n",
    "\n",
    "# # Get id for each g1 anomaly\n",
    "# anom_id4 = X_g3.id[anoms < 1]\n",
    "\n",
    "# # Pull the poits categorized as anomalies\n",
    "# X1 = X1.drop(labels=anom_id4.index)"
   ]
  },
  {
   "cell_type": "code",
   "execution_count": 11,
   "id": "950b0848",
   "metadata": {
    "execution": {
     "iopub.execute_input": "2022-07-31T22:03:30.070448Z",
     "iopub.status.busy": "2022-07-31T22:03:30.069765Z",
     "iopub.status.idle": "2022-07-31T22:03:30.074991Z",
     "shell.execute_reply": "2022-07-31T22:03:30.074115Z"
    },
    "papermill": {
     "duration": 0.013905,
     "end_time": "2022-07-31T22:03:30.077248",
     "exception": false,
     "start_time": "2022-07-31T22:03:30.063343",
     "status": "completed"
    },
    "tags": []
   },
   "outputs": [],
   "source": [
    "# # The fourth group\n",
    "# X_g4 = X1[g4].copy()\n",
    "\n",
    "# # Determine whether each sample in the group is a general outlier\n",
    "# anoms = get_anomalies(X_g4)\n",
    "\n",
    "# # Get id for each g1 anomaly\n",
    "# anom_id5 = X_g4.id[anoms < 1]\n",
    "\n",
    "# # Pull the poits categorized as anomalies\n",
    "# X1 = X1.drop(labels=anom_id5.index)"
   ]
  },
  {
   "cell_type": "code",
   "execution_count": 12,
   "id": "624d87f2",
   "metadata": {
    "execution": {
     "iopub.execute_input": "2022-07-31T22:03:30.089538Z",
     "iopub.status.busy": "2022-07-31T22:03:30.088826Z",
     "iopub.status.idle": "2022-07-31T22:03:30.093933Z",
     "shell.execute_reply": "2022-07-31T22:03:30.093094Z"
    },
    "papermill": {
     "duration": 0.013919,
     "end_time": "2022-07-31T22:03:30.096152",
     "exception": false,
     "start_time": "2022-07-31T22:03:30.082233",
     "status": "completed"
    },
    "tags": []
   },
   "outputs": [],
   "source": [
    "# # # Determine whether each sample is a general outlier\n",
    "# anoms = get_anomalies(X1)\n",
    "\n",
    "# # Get id for each general anomaly\n",
    "# anom_id1 = X1.id[anoms < 1]\n",
    "\n",
    "# # Pull the poits categorized as anomalies\n",
    "# # X1 = X.copy()\n",
    "# # X1 = X1.drop(labels=anom_id1.index)"
   ]
  },
  {
   "cell_type": "code",
   "execution_count": 13,
   "id": "fcd4d096",
   "metadata": {
    "execution": {
     "iopub.execute_input": "2022-07-31T22:03:30.108784Z",
     "iopub.status.busy": "2022-07-31T22:03:30.108239Z",
     "iopub.status.idle": "2022-07-31T22:03:30.141822Z",
     "shell.execute_reply": "2022-07-31T22:03:30.140035Z"
    },
    "papermill": {
     "duration": 0.04257,
     "end_time": "2022-07-31T22:03:30.144310",
     "exception": false,
     "start_time": "2022-07-31T22:03:30.101740",
     "status": "completed"
    },
    "tags": []
   },
   "outputs": [
    {
     "name": "stdout",
     "output_type": "stream",
     "text": [
      "All samples labeled\n"
     ]
    }
   ],
   "source": [
    "# Collect the cluster labels\n",
    "label_map_dict = {}\n",
    "for idx in anom_id1:\n",
    "    label_map_dict[idx] = 0\n",
    "# for idx in anom_id2:\n",
    "#     label_map_dict[idx] = 1\n",
    "# for idx in anom_id2:\n",
    "#     label_map_dict[idx] = 2\n",
    "# for idx in anom_id3:\n",
    "#     label_map_dict[idx] = 3\n",
    "# for idx in anom_id4:\n",
    "#     label_map_dict[idx] = 4\n",
    "# for idx in anom_id5:\n",
    "#     label_map_dict[idx] = 5\n",
    "for idx in X1.id:\n",
    "    label_map_dict[idx] = 1       #6\n",
    "\n",
    "# Check that we got all of them\n",
    "if len(label_map_dict) == len(X):\n",
    "    print(\"All samples labeled\")"
   ]
  },
  {
   "cell_type": "code",
   "execution_count": 14,
   "id": "6ee36179",
   "metadata": {
    "execution": {
     "iopub.execute_input": "2022-07-31T22:03:30.155877Z",
     "iopub.status.busy": "2022-07-31T22:03:30.155502Z",
     "iopub.status.idle": "2022-07-31T22:03:30.217833Z",
     "shell.execute_reply": "2022-07-31T22:03:30.216778Z"
    },
    "papermill": {
     "duration": 0.071186,
     "end_time": "2022-07-31T22:03:30.220549",
     "exception": false,
     "start_time": "2022-07-31T22:03:30.149363",
     "status": "completed"
    },
    "tags": []
   },
   "outputs": [],
   "source": [
    "# Add the predicted clusters to the dataset\n",
    "X['Predicted'] = X['id'].map(label_map_dict)"
   ]
  },
  {
   "cell_type": "code",
   "execution_count": 15,
   "id": "ee119569",
   "metadata": {
    "execution": {
     "iopub.execute_input": "2022-07-31T22:03:30.232008Z",
     "iopub.status.busy": "2022-07-31T22:03:30.231544Z",
     "iopub.status.idle": "2022-07-31T22:03:30.343041Z",
     "shell.execute_reply": "2022-07-31T22:03:30.341626Z"
    },
    "papermill": {
     "duration": 0.120368,
     "end_time": "2022-07-31T22:03:30.345823",
     "exception": false,
     "start_time": "2022-07-31T22:03:30.225455",
     "status": "completed"
    },
    "tags": []
   },
   "outputs": [],
   "source": [
    "# Submit results\n",
    "y = X[['Predicted','id']]\n",
    "y.rename(columns={'id':'Id'})\n",
    "y.to_csv(\"submission.csv\", index=False)"
   ]
  }
 ],
 "metadata": {
  "kernelspec": {
   "display_name": "Python 3",
   "language": "python",
   "name": "python3"
  },
  "language_info": {
   "codemirror_mode": {
    "name": "ipython",
    "version": 3
   },
   "file_extension": ".py",
   "mimetype": "text/x-python",
   "name": "python",
   "nbconvert_exporter": "python",
   "pygments_lexer": "ipython3",
   "version": "3.7.12"
  },
  "papermill": {
   "default_parameters": {},
   "duration": 19.195568,
   "end_time": "2022-07-31T22:03:31.075421",
   "environment_variables": {},
   "exception": null,
   "input_path": "__notebook__.ipynb",
   "output_path": "__notebook__.ipynb",
   "parameters": {},
   "start_time": "2022-07-31T22:03:11.879853",
   "version": "2.3.4"
  }
 },
 "nbformat": 4,
 "nbformat_minor": 5
}
